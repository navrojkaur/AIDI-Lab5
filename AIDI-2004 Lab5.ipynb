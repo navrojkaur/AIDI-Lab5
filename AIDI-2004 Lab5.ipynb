{
 "cells": [
  {
   "cell_type": "code",
   "execution_count": 2,
   "id": "783ff232",
   "metadata": {},
   "outputs": [
    {
     "name": "stdout",
     "output_type": "stream",
     "text": [
      "  Species  Weight  Length1  Length2  Length3   Height   Width\n",
      "0   Bream   242.0     23.2     25.4     30.0  11.5200  4.0200\n",
      "1   Bream   290.0     24.0     26.3     31.2  12.4800  4.3056\n",
      "2   Bream   340.0     23.9     26.5     31.1  12.3778  4.6961\n",
      "3   Bream   363.0     26.3     29.0     33.5  12.7300  4.4555\n",
      "4   Bream   430.0     26.5     29.0     34.0  12.4440  5.1340\n",
      "            Weight     Length1     Length2     Length3      Height       Width\n",
      "count   159.000000  159.000000  159.000000  159.000000  159.000000  159.000000\n",
      "mean    398.326415   26.247170   28.415723   31.227044    8.970994    4.417486\n",
      "std     357.978317    9.996441   10.716328   11.610246    4.286208    1.685804\n",
      "min       0.000000    7.500000    8.400000    8.800000    1.728400    1.047600\n",
      "25%     120.000000   19.050000   21.000000   23.150000    5.944800    3.385650\n",
      "50%     273.000000   25.200000   27.300000   29.400000    7.786000    4.248500\n",
      "75%     650.000000   32.700000   35.500000   39.650000   12.365900    5.584500\n",
      "max    1650.000000   59.000000   63.400000   68.000000   18.957000    8.142000\n",
      "<class 'pandas.core.frame.DataFrame'>\n",
      "RangeIndex: 159 entries, 0 to 158\n",
      "Data columns (total 7 columns):\n",
      " #   Column   Non-Null Count  Dtype  \n",
      "---  ------   --------------  -----  \n",
      " 0   Species  159 non-null    object \n",
      " 1   Weight   159 non-null    float64\n",
      " 2   Length1  159 non-null    float64\n",
      " 3   Length2  159 non-null    float64\n",
      " 4   Length3  159 non-null    float64\n",
      " 5   Height   159 non-null    float64\n",
      " 6   Width    159 non-null    float64\n",
      "dtypes: float64(6), object(1)\n",
      "memory usage: 8.8+ KB\n",
      "None\n",
      "Species    0\n",
      "Weight     0\n",
      "Length1    0\n",
      "Length2    0\n",
      "Length3    0\n",
      "Height     0\n",
      "Width      0\n",
      "dtype: int64\n",
      "Root Mean Squared Error: 117.16576527726228\n"
     ]
    },
    {
     "data": {
      "text/plain": [
       "['fish_weight_model.pkl']"
      ]
     },
     "execution_count": 2,
     "metadata": {},
     "output_type": "execute_result"
    }
   ],
   "source": [
    "# Import necessary libraries\n",
    "import pandas as pd\n",
    "import numpy as np\n",
    "from sklearn.model_selection import train_test_split\n",
    "from sklearn.linear_model import LinearRegression\n",
    "from sklearn.metrics import mean_squared_error\n",
    "\n",
    "# Load the dataset\n",
    "df = pd.read_csv('Fish.csv')\n",
    "\n",
    "# Display the first few rows of the dataset\n",
    "print(df.head())\n",
    "\n",
    "# Perform basic exploratory data analysis (EDA)\n",
    "print(df.describe())\n",
    "print(df.info())\n",
    "\n",
    "# Check for missing values\n",
    "print(df.isnull().sum())\n",
    "\n",
    "# Encode the 'Species' column as it's categorical\n",
    "df['Species'] = df['Species'].astype('category').cat.codes\n",
    "\n",
    "# Define features and target variable\n",
    "X = df.drop('Weight', axis=1)\n",
    "y = df['Weight']\n",
    "\n",
    "# Split the dataset into training and testing sets\n",
    "X_train, X_test, y_train, y_test = train_test_split(X, y, test_size=0.2, random_state=42)\n",
    "\n",
    "# Train a linear regression model\n",
    "model = LinearRegression()\n",
    "model.fit(X_train, y_train)\n",
    "\n",
    "# Make predictions on the test set\n",
    "y_pred = model.predict(X_test)\n",
    "\n",
    "# Evaluate the model\n",
    "rmse = np.sqrt(mean_squared_error(y_test, y_pred))\n",
    "print(f'Root Mean Squared Error: {rmse}')\n",
    "\n",
    "# Save the trained model\n",
    "joblib.dump(model, 'fish_weight_model.pkl')\n"
   ]
  },
  {
   "cell_type": "code",
   "execution_count": null,
   "id": "f2f77398",
   "metadata": {},
   "outputs": [],
   "source": []
  }
 ],
 "metadata": {
  "kernelspec": {
   "display_name": "Python 3 (ipykernel)",
   "language": "python",
   "name": "python3"
  },
  "language_info": {
   "codemirror_mode": {
    "name": "ipython",
    "version": 3
   },
   "file_extension": ".py",
   "mimetype": "text/x-python",
   "name": "python",
   "nbconvert_exporter": "python",
   "pygments_lexer": "ipython3",
   "version": "3.11.5"
  }
 },
 "nbformat": 4,
 "nbformat_minor": 5
}
